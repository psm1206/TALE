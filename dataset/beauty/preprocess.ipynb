{
 "cells": [
  {
   "cell_type": "code",
   "execution_count": null,
   "metadata": {},
   "outputs": [],
   "source": [
    "import pandas as pd \n",
    "import numpy as np \n",
    "dataset_name = \"beauty\"\n",
    "N = 180\n",
    "\n",
    "data = pd.read_csv(f\"{dataset_name}.inter\",sep='\\t')\n",
    "data = data.sort_values(['user_id:token', 'timestamp:float'])"
   ]
  },
  {
   "cell_type": "code",
   "execution_count": null,
   "metadata": {},
   "outputs": [],
   "source": [
    "counts = np.zeros(len(data))\n",
    "item_time_data = data[['item_id:token','timestamp:float']]\n",
    "\n",
    "for _, table in item_time_data.groupby('item_id:token'):\n",
    "    times = table['timestamp:float'].to_numpy()\n",
    "    for index, (item_id, timestamp) in table.iterrows():\n",
    "        count = ((times <= timestamp) & (times >= timestamp - N)).sum()\n",
    "        counts[index] = count"
   ]
  },
  {
   "cell_type": "code",
   "execution_count": null,
   "metadata": {},
   "outputs": [],
   "source": [
    "data['count:float'] = counts\n",
    "data = data[[\"user_id:token\", \"item_id:token\", \"rating:float\", \"timestamp:float\", \"count:float\"]]\n",
    "data.to_csv(f\"{dataset_name}.inter\", sep='\\t', index=None)"
   ]
  }
 ],
 "metadata": {
  "kernelspec": {
   "display_name": "minch",
   "language": "python",
   "name": "python3"
  },
  "language_info": {
   "codemirror_mode": {
    "name": "ipython",
    "version": 3
   },
   "file_extension": ".py",
   "mimetype": "text/x-python",
   "name": "python",
   "nbconvert_exporter": "python",
   "pygments_lexer": "ipython3",
   "version": "3.10.13"
  }
 },
 "nbformat": 4,
 "nbformat_minor": 2
}
